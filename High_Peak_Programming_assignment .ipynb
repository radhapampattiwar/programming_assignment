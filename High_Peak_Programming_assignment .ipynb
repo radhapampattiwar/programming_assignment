{
 "cells": [
  {
   "cell_type": "code",
   "execution_count": 28,
   "metadata": {},
   "outputs": [
    {
     "name": "stdout",
     "output_type": "stream",
     "text": [
      "Enter no. of employee: \n",
      "4\n",
      "Here the goodies that are selected for distribution are: \n",
      "\n",
      "('Fitbit Plus', 7980)\n",
      "('Microwave Oven', 9800)\n",
      "('Alexa', 9999)\n",
      "('Digital Camera', 11101)\n",
      "\n",
      "And the difference between the chosen goodie with highest price and the lowest price is : 3121\n"
     ]
    }
   ],
   "source": [
    "def diff(price, N, M): #to finding the difference between the elements\n",
    "    #price.sort()\n",
    "# Variable Declaration\n",
    "\tprev = 999999 \n",
    "\tminimun = 0\n",
    "\thigh = 0\n",
    "\tlow = 0\n",
    "\t\n",
    "\tprint(\"Here the goodies that are selected for distribution are: \\n\")\n",
    "\tfor i in range(N-M+1):     #N=number of goodies and M=number of employee\n",
    "\t\tminimum = min(prev, price[i+M-1][1] - price[i][1])\n",
    "\t\tif minimum < prev:\n",
    "\t\t\thigh = i+M-1\n",
    "\t\t\tlow = i\n",
    "\t\tprev = minimum\n",
    "\t\t\n",
    "\treturn high, low, minimum\n",
    "\n",
    "items = {}\n",
    "#loading from input file and extracting values fron input file\n",
    "with open(\"sample_input.txt\") as f:\n",
    "    for line in f:\n",
    "       (key, val) = line.split(\": \")\n",
    "       items[key] = int(val)\t   \n",
    "#print(items)\n",
    "#price = list(items.values())\n",
    "sort_items = sorted(items.items(), key = lambda x:x[1])\n",
    "\n",
    "#Number of Goodies\n",
    "N = len(items)   #print(N)\n",
    "\n",
    "\n",
    "#Number of employees\n",
    "M= int(input(\"Enter no. of employee: \\n\"))   #print(number_of_employee)\n",
    "\n",
    "\n",
    "high, low, minDiff = diff(sort_items, N, M)\n",
    "\n",
    "for i in range(low,high+1):\n",
    "\tprint(sort_items[i])\n",
    "\n",
    "print(\"\\nAnd the difference between the chosen goodie with highest price and the lowest price is :\", minDiff)\n"
   ]
  },
  {
   "cell_type": "code",
   "execution_count": null,
   "metadata": {},
   "outputs": [],
   "source": []
  }
 ],
 "metadata": {
  "kernelspec": {
   "display_name": "Python 3",
   "language": "python",
   "name": "python3"
  },
  "language_info": {
   "codemirror_mode": {
    "name": "ipython",
    "version": 3
   },
   "file_extension": ".py",
   "mimetype": "text/x-python",
   "name": "python",
   "nbconvert_exporter": "python",
   "pygments_lexer": "ipython3",
   "version": "3.8.5"
  }
 },
 "nbformat": 4,
 "nbformat_minor": 4
}
